{
 "cells": [
  {
   "cell_type": "code",
   "execution_count": 1,
   "metadata": {},
   "outputs": [],
   "source": [
    "import pandas as pd\n",
    "import matplotlib.pyplot as plt\n",
    "import numpy as np\n",
    "import seaborn as sns\n",
    "sns.set_context(\"paper\", font_scale=1.6)\n",
    "sns.set_style('whitegrid')"
   ]
  },
  {
   "cell_type": "code",
   "execution_count": 2,
   "metadata": {},
   "outputs": [
    {
     "data": {
      "image/png": "[encoded data removed]",
      "text/plain": [
       "<Figure size 432x288 with 1 Axes>"
      ]
     },
     "metadata": {},
     "output_type": "display_data"
    }
   ],
   "source": [
    "from scipy import signal\n",
    "import matplotlib.pyplot as plt\n",
    "lti = signal.lti([1.0], [3.0, 1.0, 2])\n",
    "t, y = signal.step2(lti)\n",
    "\n",
    "ax = sns.lineplot(t, y)\n",
    "ax.set_xlim([0, 10]);\n",
    "# plt.xlabel('Time [s]')\n",
    "# plt.ylabel('Amplitude')\n",
    "# plt.title('Step response for 1. Order Lowpass')\n",
    "# plt.grid()"
   ]
  },
  {
   "cell_type": "code",
   "execution_count": 3,
   "metadata": {},
   "outputs": [
    {
     "data": {
      "application/vnd.jupyter.widget-view+json": {
       "model_id": "d8ab2e010f6443b5a468a118d223f1f6",
       "version_major": 2,
       "version_minor": 0
      },
      "text/plain": [
       "interactive(children=(IntSlider(value=30, description='x', max=40, min=5), IntSlider(value=1, description='amp…"
      ]
     },
     "metadata": {},
     "output_type": "display_data"
    }
   ],
   "source": [
    "def ho(x, amp, cen, wid):\n",
    "\n",
    "    return amp/(np.sqrt((1-(x/cen)**2)**2 + (2*wid*x/cen)**2))\n",
    "\n",
    "\n",
    "                \n",
    "def p(x, amp, cen, wid):\n",
    "    sns.lineplot(np.linspace(1, x, 100), ho(np.linspace(1, x, 100), amp, cen, wid))\n",
    "    \n",
    "    \n",
    "from ipywidgets import interact, interactive, fixed, interact_manual\n",
    "import ipywidgets as widgets\n",
    "\n",
    "# inflection1=22, inflection2=60, slope1=0.2, slope2=0.1, max.sel=1, minsel.upper=1, plot=T)\n",
    "\n",
    "\n",
    "interact(p, amp=widgets.IntSlider(min=1, max=100, step=1, value=1),\\\n",
    "        cen=widgets.IntSlider(min=0, max=100, step=1, value=10),\\\n",
    "        wid=widgets.FloatSlider(min=-30, max=30, step=0.01, value=-2),\\\n",
    "#         slope2=widgets.FloatSlider(min=-30, max=30, step=0.01, value=-1),\\\n",
    "#          max_sel=widgets.FloatSlider(min=-30, max=30, step=0.01, value=1),\\\n",
    "#         minsel_upper=widgets.FloatSlider(min=-30, max=30, step=0.01, value=0.5),\\\n",
    "        x=widgets.IntSlider(min=5, max=40, step=1, value=30),);"
   ]
  },
  {
   "cell_type": "code",
   "execution_count": 24,
   "metadata": {},
   "outputs": [
    {
     "data": {
      "application/vnd.jupyter.widget-view+json": {
       "model_id": "99c18d670c8d4b4583a122657263dbc6",
       "version_major": 2,
       "version_minor": 0
      },
      "text/plain": [
       "interactive(children=(FloatSlider(value=1.25, description='K', max=2.0, min=0.5), FloatSlider(value=1.25, desc…"
      ]
     },
     "metadata": {},
     "output_type": "display_data"
    }
   ],
   "source": [
    "# https://jckantor.github.io/CBE30338/03.06-Second-Order-Models.html\n",
    "\n",
    "def overdamped(K, tau, zeta):\n",
    "    t = np.linspace(0, 50)\n",
    "    tau_1 = tau/(zeta - np.sqrt(zeta**2 - 1))\n",
    "    tau_2 = tau/(zeta + np.sqrt(zeta**2 - 1))\n",
    "\n",
    "    y = K*(1 - ((tau_1*np.exp(-t/tau_1) - tau_2*np.exp(-t/tau_2))/(tau_1 - tau_2)))\n",
    "    sns.lineplot(t,y)\n",
    "#     plt.grid()\n",
    "    \n",
    "interact(overdamped, K=(0.5,2), tau=(0.5,2), zeta=(1.01,2));\n",
    "\n"
   ]
  },
  {
   "cell_type": "code",
   "execution_count": 11,
   "metadata": {},
   "outputs": [
    {
     "data": {
      "application/vnd.jupyter.widget-view+json": {
       "model_id": "bcd3b00513ed4527ba396c7449f30a7d",
       "version_major": 2,
       "version_minor": 0
      },
      "text/plain": [
       "interactive(children=(FloatSlider(value=1.25, description='K', max=2.0, min=0.5), FloatSlider(value=1.25, desc…"
      ]
     },
     "metadata": {},
     "output_type": "display_data"
    }
   ],
   "source": [
    "\n",
    "\n",
    "def criticallydamped(K, tau):\n",
    "    t = np.linspace(0,20)\n",
    "    y = K*(1 - (1 + t/tau)*np.exp(-t/tau))\n",
    "    plt.plot(t,y)\n",
    "#     plt.grid()\n",
    "    \n",
    "# criticallydamped(K=2, tau=2)\n",
    "\n",
    "\n",
    " \n",
    "interact(criticallydamped, K=(0.5,2), tau=(0.5,2), zeta=(1.01,2));"
   ]
  },
  {
   "cell_type": "code",
   "execution_count": 18,
   "metadata": {},
   "outputs": [
    {
     "data": {
      "application/vnd.jupyter.widget-view+json": {
       "model_id": "cb6cc986f4cf4c34893776de8018e2fb",
       "version_major": 2,
       "version_minor": 0
      },
      "text/plain": [
       "interactive(children=(FloatSlider(value=5.0, description='K', max=10.0, min=1.0, step=0.5), FloatSlider(value=…"
      ]
     },
     "metadata": {},
     "output_type": "display_data"
    }
   ],
   "source": [
    "# https://jckantor.github.io/CBE30338/03.06-Second-Order-Models.html\n",
    "\n",
    "def underdamped(K, tau, zeta):\n",
    "    t = np.linspace(0, 50)\n",
    "#     t = 100 -t\n",
    "#     t = -t\n",
    "    c = np.cos(np.sqrt(1-zeta**2)*t/tau)\n",
    "    s = np.sin(np.sqrt(1-zeta**2)*t/tau)\n",
    "    \n",
    "    y = K*(1 - np.exp(-zeta*t/tau)*(c + zeta*s/np.sqrt(1-zeta**2)))\n",
    "    sns.lineplot(t,y);\n",
    "\n",
    "interact(underdamped, K=(1,10, 0.5), tau=(0.5,10), zeta=(0, 0.9999, 0.0001));\n",
    "\n",
    "#tau = 3.60, zeta = 0.30, K=0.60\n",
    "#k=8.5, tau=4., zeta= 0.4\n"
   ]
  },
  {
   "cell_type": "code",
   "execution_count": 13,
   "metadata": {},
   "outputs": [
    {
     "data": {
      "text/plain": [
       "1.7446738232789623"
      ]
     },
     "execution_count": 13,
     "metadata": {},
     "output_type": "execute_result"
    }
   ],
   "source": [
    "def underdamped1(t, K=1.75, tau=2.75, zeta=0.40):\n",
    "    t = 40 - t\n",
    "#     t = 40 - t\n",
    "    c = np.cos(np.sqrt(1-zeta**2)*t/tau)\n",
    "    s = np.sin(np.sqrt(1-zeta**2)*t/tau)\n",
    "    \n",
    "    y = K*(1 - np.exp(-zeta*t/tau)*(c + zeta*s/np.sqrt(1-zeta**2)))\n",
    "    return y\n",
    "\n",
    "underdamped1(0)"
   ]
  },
  {
   "cell_type": "code",
   "execution_count": 60,
   "metadata": {},
   "outputs": [
    {
     "data": {
      "image/png": "[encoded data removed]",
      "text/plain": [
       "<Figure size 360x360 with 1 Axes>"
      ]
     },
     "metadata": {},
     "output_type": "display_data"
    }
   ],
   "source": [
    "# https://jckantor.github.io/CBE30338/03.06-Second-Order-Models.html\n",
    "\n",
    "def underdamped(t, K, tau, zeta):\n",
    "    c = np.cos(np.sqrt(1-zeta**2)*t/tau)\n",
    "    s = np.sin(np.sqrt(1-zeta**2)*t/tau)\n",
    "    \n",
    "    y = K*(1 - np.exp(-zeta*t/tau)*(c + zeta*s/np.sqrt(1-zeta**2)))\n",
    "    return y\n",
    "\n",
    "def overdamped(t, K, tau, zeta):\n",
    "    tau_1 = tau/(zeta - np.sqrt(zeta**2 - 1))\n",
    "    tau_2 = tau/(zeta + np.sqrt(zeta**2 - 1))\n",
    "\n",
    "    y = K*(1 - ((tau_1*np.exp(-t/tau_1) - tau_2*np.exp(-t/tau_2))/(tau_1 - tau_2)))\n",
    "    return y\n",
    "\n",
    "def criticallydamped(t, K, tau):\n",
    "    y = K*(1 - (1 + t/tau)*np.exp(-t/tau))\n",
    "    return y\n",
    "\n",
    "\n",
    "\n",
    "plt.figure(figsize=(5, 5))\n",
    "sns.lineplot(np.linspace(0, 50, 100), underdamped(t=np.linspace(0, 50, 100), K=0.75, \\\n",
    "              tau=5.2, zeta=0.38), label='Underdamped (S > F)', lw=4,)\n",
    "sns.lineplot(np.linspace(0, 50, 100), criticallydamped(t=np.linspace(0, 50, 100), K=0.8, \\\n",
    "              tau=5.3,), label='Critically damped (S = F)', lw=4,)\n",
    "ax = sns.lineplot(np.linspace(0, 50, 100), overdamped(t=np.linspace(0, 50, 100), K=0.8, \\\n",
    "              tau=5.3, zeta=1.53), label='Overdamped (S < F)', lw=4,)\n",
    "ax.set_ylabel('Output')\n",
    "ax.set_xlabel('Evolution parameter');\n",
    "plt.savefig('Step_response.pdf', bbox_inches = 'tight')"
   ]
  },
  {
   "cell_type": "code",
   "execution_count": 8,
   "metadata": {},
   "outputs": [
    {
     "data": {
      "application/vnd.jupyter.widget-view+json": {
       "model_id": "212834b18810458db86a463423c1ff5c",
       "version_major": 2,
       "version_minor": 0
      },
      "text/plain": [
       "interactive(children=(FloatSlider(value=0.0, description='yref', max=10.0, min=-10.0), FloatSlider(value=1.0, …"
      ]
     },
     "metadata": {},
     "output_type": "display_data"
    }
   ],
   "source": [
    "# https://jckantor.github.io/CBE30338/03.06-Second-Order-Models.html\n",
    "\n",
    "import numpy as np\n",
    "import matplotlib.pyplot as plt\n",
    "from scipy.integrate import odeint\n",
    "from ipywidgets import interact\n",
    "\n",
    "def simulation(yref=0, U=1, K=1, tau=1, zeta=0.2):\n",
    "\n",
    "    def deriv(X,t):\n",
    "        y,v = X\n",
    "        ydot = v\n",
    "        vdot = -(y-yref)/tau/tau - 2*zeta*v/tau + K*U/tau/tau\n",
    "        return[ydot,vdot]\n",
    "\n",
    "    # simulation  \n",
    "    t = np.linspace(0,20*tau,1000)\n",
    "    y = odeint(deriv, [yref,0], t)[:,0]\n",
    "    \n",
    "    # plot steady state line and bounds\n",
    "    plt.figure(figsize=(12,6))\n",
    "\n",
    "    \n",
    "    # plot solution\n",
    "    plt.plot(t,y,lw=3)\n",
    "    plt.title('Step Response of a Second Order System')\n",
    "    plt.xlabel('Time')\n",
    "    plt.ylabel('y')\n",
    "    \n",
    "    # plot limits\n",
    "    plt.ylim(plt.ylim()[0],1.1*plt.ylim()[1])\n",
    "    plt.xlim(t[0],t[-1])\n",
    "    dy = np.diff(plt.ylim())\n",
    "    \n",
    "    # arrow props\n",
    "    ap1 = dict(arrowstyle=\"->\")\n",
    "    ap2 = dict(arrowstyle=\"<->\")\n",
    "\n",
    "    if zeta < 1:\n",
    "        #overshoot\n",
    "        os = np.exp(-np.pi*zeta/np.sqrt(1-zeta**2))\n",
    "        \n",
    "        # time to first peak\n",
    "        tp = np.pi*tau/np.sqrt(1-zeta**2)\n",
    "        yp = (1+os)*K*U + yref\n",
    "          \n",
    "        plt.text(tp,yp+0.02*dy,\"Overshoot\\n b/a = {0:0.2f}\".format(os), ha='center')\n",
    "        plt.annotate('',xy=(tp,K*U+yref),xytext=(tp,yp),arrowprops=ap2)\n",
    "        plt.text(tp,(K*U+yref+yp)/2,' b')\n",
    "        plt.annotate('',xy=(tp,yref),xytext=(tp,K*U+yref),arrowprops=ap2)\n",
    "        plt.text(tp,K*U/2+yref,' a')\n",
    "        plt.annotate(\"Time to first\\n peak = {0:.2f}\".format(tp),\n",
    "                    xy=(tp,yref), xytext=(1.2*tp,0.2*K*U+yref),arrowprops=ap1)\n",
    "\n",
    "        # rise time\n",
    "        tr = t[np.where(np.diff(np.sign(y-yref-K*U))*np.sign(K*U)>0)[0][0]]\n",
    "        if tr < plt.xlim()[1]:\n",
    "            plt.plot([tr,tr],[0.3*K*U+yref,K*U+yref],'r:')\n",
    "            plt.annotate('',xy=(plt.xlim()[0],0.4*K*U+yref),xytext=(tr,0.4*K*U+yref),\n",
    "                         arrowprops=ap2)\n",
    "            plt.text(plt.xlim()[0]+tr/2,0.42*K*U+yref+0.02*dy,\n",
    "                    'Rise Time\\n = {0:.2f}'.format(tr),ha='center')\n",
    "        \n",
    "        # period\n",
    "        P = 2*np.pi*tau/np.sqrt(1-zeta**2)\n",
    "        if tr + P < plt.xlim()[1]:\n",
    "            plt.plot([tr,tr],[0.3*K*U+yref,K*U+yref],'r:')\n",
    "            plt.plot([tr+P,tr+P],[0.3*K*U+yref,K*U+yref],'r:')\n",
    "            plt.annotate('',xy=(tr,0.4*K*U+yref),xytext=(tr+P,0.4*K*U+yref),arrowprops=ap2)\n",
    "            plt.text(tr+P/2,0.42*K*U+yref+0.02*dy,'Period = {0:.2f}'.format(P), ha='center')\n",
    "        \n",
    "        # second peak\n",
    "        if tp + P < plt.xlim()[1]:\n",
    "            plt.annotate('',xy=(tp+P,K*U+yref),xytext=(tp+P,K*U*(1+os**3)+yref),\n",
    "                        arrowprops=ap2)\n",
    "            plt.text(tp+P,K*U*(1+os**3/2)+yref,' c')\n",
    "            plt.text(tp+P,K*U*(1+os**3)+yref+0.02*dy,\n",
    "                    'Decay Ratio\\n c/b = {0:.2f}'.format(os**2),va='bottom',ha='center')\n",
    "        \n",
    "        # settling time\n",
    "        ts = -np.log(0.05)*np.sqrt(1-zeta**2)*tau/zeta\n",
    "        if ts < plt.xlim()[1]:\n",
    "            plt.fill_between(t[t>ts],0.95*K*U+yref,1.05*K*U+yref,alpha=0.4,color='y')\n",
    "            plt.text(ts,1.05*K*U+yref+0.02*dy,\n",
    "                     'Settling Time\\n = {0:.2f}'.format(ts),ha='center')\n",
    "\n",
    "            \n",
    "    plt.plot(plt.xlim(),[yref,yref],'k--')\n",
    "    plt.plot(plt.xlim(),[K*U+yref,K*U+yref],'k--')\n",
    "    \n",
    "interact(simulation, yref = (-10,10,0.1), U=(0.01,5,0.01), \n",
    "         K = (-5,5,0.01), zeta=(0.01,3,0.01), tau = (0.1,5.0,0.01));\n"
   ]
  },
  {
   "cell_type": "code",
   "execution_count": 9,
   "metadata": {},
   "outputs": [
    {
     "name": "stderr",
     "output_type": "stream",
     "text": [
      "/home/bikash/anaconda3/lib/python3.7/site-packages/pandas/core/ops/array_ops.py:253: FutureWarning: elementwise comparison failed; returning scalar instead, but in the future will perform elementwise comparison\n",
      "  res_values = method(rvalues)\n"
     ]
    },
    {
     "data": {
      "application/vnd.jupyter.widget-view+json": {
       "model_id": "155a4e6bf18743e2b645269588e12abd",
       "version_major": 2,
       "version_minor": 0
      },
      "text/plain": [
       "interactive(children=(Dropdown(description='df', options=('Accessibility', 'Class Name', 'Class', 'Label'), va…"
      ]
     },
     "metadata": {},
     "output_type": "display_data"
    }
   ],
   "source": [
    "# inflection1=22, inflection2=60, slope1=0.2, slope2=0.1, max.sel=1, minsel.upper=1, plot=T)\n",
    "\n",
    "# sns.lineplot(np.arange(0, 40), [DoubleLogistic(i, 1, 1, 0.2, 0.1, 22, 30) for i in np.arange(0, 40)])\n",
    "def DoubleLogistic(x, inflection1=18, inflection2=10, slope1=-0.35, slope2=-1, max_sel=1, minsel_upper=0.5,):\n",
    "    '''\n",
    "    https://github.com/duplisea/dublogistic\n",
    "    x = x\n",
    "    omega = maximum/minimum selectivity\n",
    "    alpha = slope\n",
    "    beta = point of inflection\n",
    "    '''\n",
    "    minsel_upper= 1-minsel_upper\n",
    "    logistic1= max_sel/(1+np.exp(-slope1*(x-inflection1)))\n",
    "    logistic2= 1-minsel_upper/(1+np.exp(-slope2*(x-inflection2)))\n",
    "    sel= logistic1*logistic2\n",
    "    return sel\n",
    "\n",
    "df = pd.read_pickle('accessibility.pkl.gz')\n",
    "\n",
    "df_ = df[['Accessibility', 'Class Name', 'Class', 'Label']].sort_values(by='Accessibility').copy()\n",
    "\n",
    "\n",
    "def pltDL(df=df_, inflection1=38, inflection2=90, slope1=.3, slope2=.1, max_sel=1, minsel_upper=.4,):\n",
    "    x_vals = df_['Accessibility']\n",
    "    y_vals = DoubleLogistic(x=df_['Accessibility'], inflection1=inflection1, \\\n",
    "                           inflection2=inflection2, slope1=slope1, slope2=slope2,\\\n",
    "                           max_sel=max_sel, minsel_upper=minsel_upper)\n",
    "    plt.plot(x_vals, y_vals);\n",
    "\n",
    "from ipywidgets import interact, interactive, fixed, interact_manual\n",
    "import ipywidgets as widgets\n",
    "\n",
    "# inflection1=22, inflection2=60, slope1=0.2, slope2=0.1, max.sel=1, minsel.upper=1, plot=T)\n",
    "\n",
    "\n",
    "interact(pltDL, inflection1=widgets.IntSlider(min=10, max=100, step=1, value=18),\\\n",
    "        inflection2=widgets.IntSlider(min=10, max=100, step=1, value=17),\\\n",
    "        slope1=widgets.FloatSlider(min=-30, max=30, step=0.01, value=-0.83),\\\n",
    "        slope2=widgets.FloatSlider(min=-30, max=30, step=0.01, value=-0.50),\\\n",
    "         max_sel=widgets.FloatSlider(min=-30, max=30, step=0.01, value=1),\\\n",
    "        minsel_upper=widgets.FloatSlider(min=-30, max=30, step=0.01, value=0.5),\\\n",
    "        x=widgets.IntSlider(min=5, max=40, step=1, value=30),);"
   ]
  },
  {
   "cell_type": "code",
   "execution_count": null,
   "metadata": {},
   "outputs": [],
   "source": []
  }
 ],
 "metadata": {
  "kernelspec": {
   "display_name": "Python 3",
   "language": "python",
   "name": "python3"
  },
  "language_info": {
   "codemirror_mode": {
    "name": "ipython",
    "version": 3
   },
   "file_extension": ".py",
   "mimetype": "text/x-python",
   "name": "python",
   "nbconvert_exporter": "python",
   "pygments_lexer": "ipython3",
   "version": "3.7.6"
  }
 },
 "nbformat": 4,
 "nbformat_minor": 4
}
