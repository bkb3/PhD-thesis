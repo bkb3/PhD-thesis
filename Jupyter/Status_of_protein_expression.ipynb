{
 "cells": [
  {
   "cell_type": "code",
   "execution_count": 1,
   "metadata": {},
   "outputs": [],
   "source": [
    "import numpy as np\n",
    "import pandas as pd\n",
    "import matplotlib.pyplot as plt\n",
    "# import seaborn as sns\n",
    "# sns.set_style(\"whitegrid\")\n",
    "# sns.set_context(\"paper\", font_scale=1.4)\n",
    "# sns.set_palette(\"Set1\")\n",
    "# current_palette = sns.color_palette()\n",
    "# sns.palplot(current_palette)\n",
    "\n",
    "def fasta_reader(file):\n",
    "    '''Converts .fasta to a pandas dataframe with accession as index\n",
    "    and sequence in a column 'sequence'\n",
    "    '''\n",
    "    fasta_df = pd.read_csv(file, sep='>', lineterminator='>', header=None)\n",
    "    fasta_df[['Accession', 'Sequence']] = fasta_df[0].str.split('\\n', 1, \\\n",
    "                                        expand=True)\n",
    "    fasta_df['Accession'] = fasta_df['Accession']\n",
    "    fasta_df['Sequence'] = fasta_df['Sequence'].replace('\\n', '', regex=True).\\\n",
    "                            astype(str).str.upper().replace('U', 'T')\n",
    "    total_seq = fasta_df.shape[0]\n",
    "    fasta_df.drop(0, axis=1, inplace=True)\n",
    "    fasta_df = fasta_df[fasta_df.Sequence != '']\n",
    "    fasta_df = fasta_df[fasta_df.Sequence != 'NONE']\n",
    "    final_df = fasta_df.dropna()\n",
    "    remained_seq = final_df.shape[0]\n",
    "    if total_seq != remained_seq:\n",
    "        print(\"{} sequences were removed due to inconsistencies in\"\n",
    "                      \"provided file.\".format(total_seq-remained_seq))\n",
    "    return final_df\n",
    "\n",
    "\n",
    "CODON_TO_AA={'TTT':'F','TCT':'S','TAT':'Y','TGT':'C','TTC':'F','TCC':'S',\\\n",
    "             'TAC':'Y','TGC':'C','TTA':'L','TCA':'S','TAA':'stop',\\\n",
    "             'TGA':'stop','TTG':'L','TCG':'S','TAG':'stop','TGG':'W',\\\n",
    "             'CTT':'L','CCT':'P','CAT':'H','CGT':'R','CTC':'L','CCC':'P',\\\n",
    "             'CAC':'H','CGC':'R','CTA':'L','CCA':'P','CAA':'Q','CGA':'R',\\\n",
    "             'CTG':'L','CCG':'P','CAG':'Q','CGG':'R','ATT':'I','ACT':'T',\\\n",
    "             'AAT':'N','AGT':'S','ATC':'I','ACC':'T','AAC':'N','AGC':'S',\\\n",
    "             'ATA':'I','ACA':'T','AAA':'K','AGA':'R','ATG':'M','ACG':'T',\\\n",
    "             'AAG':'K','AGG':'R','GTT':'V','GCT':'A','GAT':'D','GGT':'G',\\\n",
    "             'GTC':'V','GCC':'A','GAC':'D','GGC':'G','GTA':'V','GCA':'A',\\\n",
    "             'GAA':'E','GGA':'G','GTG':'V','GCG':'A','GAG':'E','GGG':'G'}\n",
    "\n",
    "\n",
    "\n",
    "def translate(seq):\n",
    "    seq = seq[:-3]\n",
    "    length = (len(seq)- len(seq)%3)\n",
    "    split_func = lambda seq, n: [seq[i:i+n] for\\\n",
    "                                    i in range(0, length, n)]\n",
    "    codons = split_func(seq, 3)\n",
    "    aa = ''\n",
    "    for c in codons:\n",
    "        aa+=CODON_TO_AA[c]\n",
    "    return aa"
   ]
  },
  {
   "cell_type": "markdown",
   "metadata": {},
   "source": [
    "### Numbers of targets in the PSI:Biology pipeline and the number of structures solved. (Metrics items 1.1-1.8)\n",
    "\n"
   ]
  },
  {
   "cell_type": "code",
   "execution_count": 2,
   "metadata": {},
   "outputs": [],
   "source": [
    "#Get table from target tarck database\n",
    "tables = pd.read_html('http://targetdb.rcsb.org/metrics/ajax_table1.jsp')"
   ]
  },
  {
   "cell_type": "code",
   "execution_count": 3,
   "metadata": {},
   "outputs": [
    {
     "data": {
      "text/html": [
       "<div>\n",
       "<style scoped>\n",
       "    .dataframe tbody tr th:only-of-type {\n",
       "        vertical-align: middle;\n",
       "    }\n",
       "\n",
       "    .dataframe tbody tr th {\n",
       "        vertical-align: top;\n",
       "    }\n",
       "\n",
       "    .dataframe thead th {\n",
       "        text-align: right;\n",
       "    }\n",
       "</style>\n",
       "<table border=\"1\" class=\"dataframe\">\n",
       "  <thead>\n",
       "    <tr style=\"text-align: right;\">\n",
       "      <th></th>\n",
       "      <th>Center</th>\n",
       "      <th>Total</th>\n",
       "      <th>Cloned</th>\n",
       "      <th>Expressed</th>\n",
       "      <th>Purified</th>\n",
       "      <th>Structure Studies(X-ray/NMR/EM)</th>\n",
       "      <th>In PDB</th>\n",
       "      <th>StructuresIn PDB</th>\n",
       "    </tr>\n",
       "  </thead>\n",
       "  <tbody>\n",
       "    <tr>\n",
       "      <th>0</th>\n",
       "      <td>JCSG</td>\n",
       "      <td>9809</td>\n",
       "      <td>9758</td>\n",
       "      <td>8735</td>\n",
       "      <td>3323</td>\n",
       "      <td>2299 / 181 / 0</td>\n",
       "      <td>484</td>\n",
       "      <td>516</td>\n",
       "    </tr>\n",
       "    <tr>\n",
       "      <th>1</th>\n",
       "      <td>MCSG</td>\n",
       "      <td>8051</td>\n",
       "      <td>5991</td>\n",
       "      <td>2268</td>\n",
       "      <td>2103</td>\n",
       "      <td>1114 / 3 / 0</td>\n",
       "      <td>340</td>\n",
       "      <td>579</td>\n",
       "    </tr>\n",
       "    <tr>\n",
       "      <th>2</th>\n",
       "      <td>NESG</td>\n",
       "      <td>6696</td>\n",
       "      <td>4979</td>\n",
       "      <td>4166</td>\n",
       "      <td>1805</td>\n",
       "      <td>920 / 796 / 0</td>\n",
       "      <td>263</td>\n",
       "      <td>327</td>\n",
       "    </tr>\n",
       "    <tr>\n",
       "      <th>3</th>\n",
       "      <td>NYSGRC</td>\n",
       "      <td>25122</td>\n",
       "      <td>17996</td>\n",
       "      <td>4090</td>\n",
       "      <td>2902</td>\n",
       "      <td>1887 / 13 / 0</td>\n",
       "      <td>228</td>\n",
       "      <td>359</td>\n",
       "    </tr>\n",
       "    <tr>\n",
       "      <th>4</th>\n",
       "      <td>CSMP</td>\n",
       "      <td>168</td>\n",
       "      <td>147</td>\n",
       "      <td>124</td>\n",
       "      <td>26</td>\n",
       "      <td>17 / 0 / 0</td>\n",
       "      <td>1</td>\n",
       "      <td>5</td>\n",
       "    </tr>\n",
       "    <tr>\n",
       "      <th>5</th>\n",
       "      <td>GPCR</td>\n",
       "      <td>826</td>\n",
       "      <td>50</td>\n",
       "      <td>38</td>\n",
       "      <td>30</td>\n",
       "      <td>18 / 0 / 0</td>\n",
       "      <td>16</td>\n",
       "      <td>52</td>\n",
       "    </tr>\n",
       "    <tr>\n",
       "      <th>6</th>\n",
       "      <td>MPID</td>\n",
       "      <td>55</td>\n",
       "      <td>49</td>\n",
       "      <td>24</td>\n",
       "      <td>30</td>\n",
       "      <td>10 / 1 / 0</td>\n",
       "      <td>0</td>\n",
       "      <td>0</td>\n",
       "    </tr>\n",
       "    <tr>\n",
       "      <th>7</th>\n",
       "      <td>MPSBC</td>\n",
       "      <td>141</td>\n",
       "      <td>107</td>\n",
       "      <td>93</td>\n",
       "      <td>26</td>\n",
       "      <td>23 / 0 / 1</td>\n",
       "      <td>1</td>\n",
       "      <td>3</td>\n",
       "    </tr>\n",
       "    <tr>\n",
       "      <th>8</th>\n",
       "      <td>MPSbyNMR</td>\n",
       "      <td>14</td>\n",
       "      <td>14</td>\n",
       "      <td>14</td>\n",
       "      <td>12</td>\n",
       "      <td>0 / 11 / 0</td>\n",
       "      <td>3</td>\n",
       "      <td>8</td>\n",
       "    </tr>\n",
       "    <tr>\n",
       "      <th>9</th>\n",
       "      <td>NYCOMPS</td>\n",
       "      <td>5755</td>\n",
       "      <td>3134</td>\n",
       "      <td>1017</td>\n",
       "      <td>473</td>\n",
       "      <td>3 / 0 / 0</td>\n",
       "      <td>2</td>\n",
       "      <td>37</td>\n",
       "    </tr>\n",
       "    <tr>\n",
       "      <th>10</th>\n",
       "      <td>TEMIMPS</td>\n",
       "      <td>100</td>\n",
       "      <td>81</td>\n",
       "      <td>65</td>\n",
       "      <td>52</td>\n",
       "      <td>0 / 0 / 23</td>\n",
       "      <td>1</td>\n",
       "      <td>3</td>\n",
       "    </tr>\n",
       "    <tr>\n",
       "      <th>11</th>\n",
       "      <td>TMPC</td>\n",
       "      <td>253</td>\n",
       "      <td>137</td>\n",
       "      <td>115</td>\n",
       "      <td>27</td>\n",
       "      <td>18 / 0 / 0</td>\n",
       "      <td>0</td>\n",
       "      <td>0</td>\n",
       "    </tr>\n",
       "    <tr>\n",
       "      <th>12</th>\n",
       "      <td>TransportPDB</td>\n",
       "      <td>592</td>\n",
       "      <td>331</td>\n",
       "      <td>297</td>\n",
       "      <td>127</td>\n",
       "      <td>10 / 0 / 0</td>\n",
       "      <td>0</td>\n",
       "      <td>0</td>\n",
       "    </tr>\n",
       "  </tbody>\n",
       "</table>\n",
       "</div>"
      ],
      "text/plain": [
       "          Center  Total  Cloned  Expressed  Purified  \\\n",
       "0           JCSG   9809    9758       8735      3323   \n",
       "1           MCSG   8051    5991       2268      2103   \n",
       "2           NESG   6696    4979       4166      1805   \n",
       "3         NYSGRC  25122   17996       4090      2902   \n",
       "4           CSMP    168     147        124        26   \n",
       "5           GPCR    826      50         38        30   \n",
       "6           MPID     55      49         24        30   \n",
       "7          MPSBC    141     107         93        26   \n",
       "8       MPSbyNMR     14      14         14        12   \n",
       "9        NYCOMPS   5755    3134       1017       473   \n",
       "10       TEMIMPS    100      81         65        52   \n",
       "11          TMPC    253     137        115        27   \n",
       "12  TransportPDB    592     331        297       127   \n",
       "\n",
       "   Structure Studies(X-ray/NMR/EM)  In PDB  StructuresIn PDB  \n",
       "0                   2299 / 181 / 0     484               516  \n",
       "1                     1114 / 3 / 0     340               579  \n",
       "2                    920 / 796 / 0     263               327  \n",
       "3                    1887 / 13 / 0     228               359  \n",
       "4                       17 / 0 / 0       1                 5  \n",
       "5                       18 / 0 / 0      16                52  \n",
       "6                       10 / 1 / 0       0                 0  \n",
       "7                       23 / 0 / 1       1                 3  \n",
       "8                       0 / 11 / 0       3                 8  \n",
       "9                        3 / 0 / 0       2                37  \n",
       "10                      0 / 0 / 23       1                 3  \n",
       "11                      18 / 0 / 0       0                 0  \n",
       "12                      10 / 0 / 0       0                 0  "
      ]
     },
     "execution_count": 3,
     "metadata": {},
     "output_type": "execute_result"
    }
   ],
   "source": [
    "tables[0]"
   ]
  },
  {
   "cell_type": "code",
   "execution_count": 3,
   "metadata": {},
   "outputs": [],
   "source": [
    "tables[0].to_pickle('data_used/target_track.pkl.gz')"
   ]
  },
  {
   "cell_type": "code",
   "execution_count": 2,
   "metadata": {},
   "outputs": [],
   "source": [
    "tt = pd.read_pickle('data_used/target_track.pkl.gz')"
   ]
  },
  {
   "cell_type": "code",
   "execution_count": 3,
   "metadata": {},
   "outputs": [
    {
     "data": {
      "text/html": [
       "<div>\n",
       "<style scoped>\n",
       "    .dataframe tbody tr th:only-of-type {\n",
       "        vertical-align: middle;\n",
       "    }\n",
       "\n",
       "    .dataframe tbody tr th {\n",
       "        vertical-align: top;\n",
       "    }\n",
       "\n",
       "    .dataframe thead th {\n",
       "        text-align: right;\n",
       "    }\n",
       "</style>\n",
       "<table border=\"1\" class=\"dataframe\">\n",
       "  <thead>\n",
       "    <tr style=\"text-align: right;\">\n",
       "      <th></th>\n",
       "      <th>Center</th>\n",
       "      <th>Total</th>\n",
       "      <th>Cloned</th>\n",
       "      <th>Expressed</th>\n",
       "      <th>Purified</th>\n",
       "      <th>Structure Studies(X-ray/NMR/EM)</th>\n",
       "      <th>In PDB</th>\n",
       "      <th>StructuresIn PDB</th>\n",
       "    </tr>\n",
       "  </thead>\n",
       "  <tbody>\n",
       "    <tr>\n",
       "      <th>0</th>\n",
       "      <td>JCSG</td>\n",
       "      <td>9809</td>\n",
       "      <td>9758</td>\n",
       "      <td>8735</td>\n",
       "      <td>3323</td>\n",
       "      <td>2299 / 181 / 0</td>\n",
       "      <td>484</td>\n",
       "      <td>516</td>\n",
       "    </tr>\n",
       "    <tr>\n",
       "      <th>1</th>\n",
       "      <td>MCSG</td>\n",
       "      <td>8051</td>\n",
       "      <td>5991</td>\n",
       "      <td>2268</td>\n",
       "      <td>2103</td>\n",
       "      <td>1114 / 3 / 0</td>\n",
       "      <td>340</td>\n",
       "      <td>579</td>\n",
       "    </tr>\n",
       "    <tr>\n",
       "      <th>2</th>\n",
       "      <td>NESG</td>\n",
       "      <td>6696</td>\n",
       "      <td>4979</td>\n",
       "      <td>4166</td>\n",
       "      <td>1805</td>\n",
       "      <td>920 / 796 / 0</td>\n",
       "      <td>263</td>\n",
       "      <td>327</td>\n",
       "    </tr>\n",
       "    <tr>\n",
       "      <th>3</th>\n",
       "      <td>NYSGRC</td>\n",
       "      <td>25122</td>\n",
       "      <td>17996</td>\n",
       "      <td>4090</td>\n",
       "      <td>2902</td>\n",
       "      <td>1887 / 13 / 0</td>\n",
       "      <td>228</td>\n",
       "      <td>359</td>\n",
       "    </tr>\n",
       "    <tr>\n",
       "      <th>4</th>\n",
       "      <td>CSMP</td>\n",
       "      <td>168</td>\n",
       "      <td>147</td>\n",
       "      <td>124</td>\n",
       "      <td>26</td>\n",
       "      <td>17 / 0 / 0</td>\n",
       "      <td>1</td>\n",
       "      <td>5</td>\n",
       "    </tr>\n",
       "    <tr>\n",
       "      <th>5</th>\n",
       "      <td>GPCR</td>\n",
       "      <td>826</td>\n",
       "      <td>50</td>\n",
       "      <td>38</td>\n",
       "      <td>30</td>\n",
       "      <td>18 / 0 / 0</td>\n",
       "      <td>16</td>\n",
       "      <td>52</td>\n",
       "    </tr>\n",
       "    <tr>\n",
       "      <th>6</th>\n",
       "      <td>MPID</td>\n",
       "      <td>55</td>\n",
       "      <td>49</td>\n",
       "      <td>24</td>\n",
       "      <td>30</td>\n",
       "      <td>10 / 1 / 0</td>\n",
       "      <td>0</td>\n",
       "      <td>0</td>\n",
       "    </tr>\n",
       "    <tr>\n",
       "      <th>7</th>\n",
       "      <td>MPSBC</td>\n",
       "      <td>141</td>\n",
       "      <td>107</td>\n",
       "      <td>93</td>\n",
       "      <td>26</td>\n",
       "      <td>23 / 0 / 1</td>\n",
       "      <td>1</td>\n",
       "      <td>3</td>\n",
       "    </tr>\n",
       "    <tr>\n",
       "      <th>8</th>\n",
       "      <td>MPSbyNMR</td>\n",
       "      <td>14</td>\n",
       "      <td>14</td>\n",
       "      <td>14</td>\n",
       "      <td>12</td>\n",
       "      <td>0 / 11 / 0</td>\n",
       "      <td>3</td>\n",
       "      <td>8</td>\n",
       "    </tr>\n",
       "    <tr>\n",
       "      <th>9</th>\n",
       "      <td>NYCOMPS</td>\n",
       "      <td>5755</td>\n",
       "      <td>3134</td>\n",
       "      <td>1017</td>\n",
       "      <td>473</td>\n",
       "      <td>3 / 0 / 0</td>\n",
       "      <td>2</td>\n",
       "      <td>37</td>\n",
       "    </tr>\n",
       "    <tr>\n",
       "      <th>10</th>\n",
       "      <td>TEMIMPS</td>\n",
       "      <td>100</td>\n",
       "      <td>81</td>\n",
       "      <td>65</td>\n",
       "      <td>52</td>\n",
       "      <td>0 / 0 / 23</td>\n",
       "      <td>1</td>\n",
       "      <td>3</td>\n",
       "    </tr>\n",
       "    <tr>\n",
       "      <th>11</th>\n",
       "      <td>TMPC</td>\n",
       "      <td>253</td>\n",
       "      <td>137</td>\n",
       "      <td>115</td>\n",
       "      <td>27</td>\n",
       "      <td>18 / 0 / 0</td>\n",
       "      <td>0</td>\n",
       "      <td>0</td>\n",
       "    </tr>\n",
       "    <tr>\n",
       "      <th>12</th>\n",
       "      <td>TransportPDB</td>\n",
       "      <td>592</td>\n",
       "      <td>331</td>\n",
       "      <td>297</td>\n",
       "      <td>127</td>\n",
       "      <td>10 / 0 / 0</td>\n",
       "      <td>0</td>\n",
       "      <td>0</td>\n",
       "    </tr>\n",
       "  </tbody>\n",
       "</table>\n",
       "</div>"
      ],
      "text/plain": [
       "          Center  Total  Cloned  Expressed  Purified  \\\n",
       "0           JCSG   9809    9758       8735      3323   \n",
       "1           MCSG   8051    5991       2268      2103   \n",
       "2           NESG   6696    4979       4166      1805   \n",
       "3         NYSGRC  25122   17996       4090      2902   \n",
       "4           CSMP    168     147        124        26   \n",
       "5           GPCR    826      50         38        30   \n",
       "6           MPID     55      49         24        30   \n",
       "7          MPSBC    141     107         93        26   \n",
       "8       MPSbyNMR     14      14         14        12   \n",
       "9        NYCOMPS   5755    3134       1017       473   \n",
       "10       TEMIMPS    100      81         65        52   \n",
       "11          TMPC    253     137        115        27   \n",
       "12  TransportPDB    592     331        297       127   \n",
       "\n",
       "   Structure Studies(X-ray/NMR/EM)  In PDB  StructuresIn PDB  \n",
       "0                   2299 / 181 / 0     484               516  \n",
       "1                     1114 / 3 / 0     340               579  \n",
       "2                    920 / 796 / 0     263               327  \n",
       "3                    1887 / 13 / 0     228               359  \n",
       "4                       17 / 0 / 0       1                 5  \n",
       "5                       18 / 0 / 0      16                52  \n",
       "6                       10 / 1 / 0       0                 0  \n",
       "7                       23 / 0 / 1       1                 3  \n",
       "8                       0 / 11 / 0       3                 8  \n",
       "9                        3 / 0 / 0       2                37  \n",
       "10                      0 / 0 / 23       1                 3  \n",
       "11                      18 / 0 / 0       0                 0  \n",
       "12                      10 / 0 / 0       0                 0  "
      ]
     },
     "execution_count": 3,
     "metadata": {},
     "output_type": "execute_result"
    }
   ],
   "source": [
    "tt"
   ]
  },
  {
   "cell_type": "code",
   "execution_count": 4,
   "metadata": {},
   "outputs": [
    {
     "data": {
      "text/plain": [
       "(57582, 42774, 21046, 10936)"
      ]
     },
     "execution_count": 4,
     "metadata": {},
     "output_type": "execute_result"
    }
   ],
   "source": [
    "tt['Total'].sum(), tt['Cloned'].sum(), tt['Expressed'].sum(), tt['Purified'].sum()"
   ]
  },
  {
   "cell_type": "code",
   "execution_count": 8,
   "metadata": {},
   "outputs": [
    {
     "data": {
      "text/plain": [
       "(25.716369698864227, 74.28363030113577)"
      ]
     },
     "execution_count": 8,
     "metadata": {},
     "output_type": "execute_result"
    }
   ],
   "source": [
    "#Not cloned and cloned\n",
    "(5758200 -4277400)/57582, 4277400/57582"
   ]
  },
  {
   "cell_type": "code",
   "execution_count": 12,
   "metadata": {},
   "outputs": [
    {
     "data": {
      "text/plain": [
       "(37.73401410162898, 36.549616199506794)"
      ]
     },
     "execution_count": 12,
     "metadata": {},
     "output_type": "execute_result"
    }
   ],
   "source": [
    "#Not expressed and expressed\n",
    "(4277400 -2104600)/57582, 2104600/57582"
   ]
  },
  {
   "cell_type": "code",
   "execution_count": 18,
   "metadata": {},
   "outputs": [
    {
     "data": {
      "text/plain": [
       "(17.557570073981452, 18.992046125525338, 10110)"
      ]
     },
     "execution_count": 18,
     "metadata": {},
     "output_type": "execute_result"
    }
   ],
   "source": [
    "#not purifeid and purified\n",
    "(2104600 - 1093600)/57582, 1093600/57582, 21046 - 10936"
   ]
  },
  {
   "cell_type": "code",
   "execution_count": 34,
   "metadata": {},
   "outputs": [
    {
     "data": {
      "text/plain": [
       "26"
      ]
     },
     "execution_count": 34,
     "metadata": {},
     "output_type": "execute_result"
    }
   ],
   "source": [
    "round(100-74.283630)"
   ]
  },
  {
   "cell_type": "code",
   "execution_count": 39,
   "metadata": {
    "scrolled": true
   },
   "outputs": [
    {
     "data": {
      "text/plain": [
       "Total        100.0\n",
       "Cloned        74.0\n",
       "Expressed     37.0\n",
       "Purified      19.0\n",
       "dtype: float64"
      ]
     },
     "execution_count": 39,
     "metadata": {},
     "output_type": "execute_result"
    }
   ],
   "source": [
    "np.round(tt[['Total', 'Cloned', 'Expressed', 'Purified']].sum()*100/tt['Total'].sum())"
   ]
  },
  {
   "cell_type": "code",
   "execution_count": 44,
   "metadata": {
    "scrolled": true
   },
   "outputs": [
    {
     "data": {
      "text/plain": [
       "Total        57582\n",
       "Cloned       42774\n",
       "Expressed    21046\n",
       "Purified     10936\n",
       "dtype: int64"
      ]
     },
     "execution_count": 44,
     "metadata": {},
     "output_type": "execute_result"
    }
   ],
   "source": [
    "tt[['Total', 'Cloned', 'Expressed', 'Purified']].sum()"
   ]
  },
  {
   "cell_type": "code",
   "execution_count": 48,
   "metadata": {},
   "outputs": [
    {
     "data": {
      "text/plain": [
       "(10110, 17.557570073981452, 18.992046125525338)"
      ]
     },
     "execution_count": 48,
     "metadata": {},
     "output_type": "execute_result"
    }
   ],
   "source": [
    "21046 - 10936, 1011000/57582, 1093600/57582"
   ]
  },
  {
   "cell_type": "code",
   "execution_count": null,
   "metadata": {},
   "outputs": [],
   "source": []
  },
  {
   "cell_type": "code",
   "execution_count": 104,
   "metadata": {},
   "outputs": [
    {
     "data": {
      "image/png": "[encoded data removed]",
      "text/plain": [
       "<Figure size 432x216 with 1 Axes>"
      ]
     },
     "metadata": {},
     "output_type": "display_data"
    }
   ],
   "source": [
    "all_data = ['42774 Cloned', '21046 Expressed', '10936 Purified']\n",
    "\n",
    "data = [float(x.split()[0]) for x in all_data]\n",
    "ingredients = [x.split()[-1] for x in all_data]\n",
    "\n",
    "\n",
    "def func(pct, allvals):\n",
    "    absolute = int(pct/100.*np.sum(allvals))\n",
    "    return \"{:.1f}%\\n({:d})\".format(pct, absolute)\n",
    "\n",
    "\n",
    "fig, ax = plt.subplots(figsize=(6, 3), subplot_kw=dict(aspect=\"equal\"))\n",
    "\n",
    "wedges, texts, autotexts = ax.pie(data, autopct=lambda pct: func(pct, data),\n",
    "                                  textprops=dict(color=\"black\"), labels=labels_)\n",
    "\n",
    "# ax.legend(wedges, ingredients,\n",
    "# #           title=\"Ingredients\",\n",
    "#           loc=\"center left\",\n",
    "#           bbox_to_anchor=(1, 0, 0.5, 1))\n",
    "\n",
    "# plt.setp(autotexts, size=8, weight=\"bold\")\n",
    "\n",
    "ax.set_title(\"A\")\n",
    "\n",
    "plt.show()\n",
    "# plt.savefig(\"figs/Status_of_protein_expression(1).pdf\", bbox_inches = 'tight', pad_inches = 0)"
   ]
  },
  {
   "cell_type": "code",
   "execution_count": null,
   "metadata": {},
   "outputs": [],
   "source": []
  },
  {
   "cell_type": "code",
   "execution_count": 23,
   "metadata": {},
   "outputs": [],
   "source": [
    "#classes for pET15 and 21\n",
    "classes = pd.read_csv('~/Documents/Solubility/SoDoPE_paper_2019/datasets_used/class.txt', sep='\\t')\n",
    "\n",
    "#pET15 \n",
    "pET15_ =  pd.read_csv('~/Documents/Solubility/SoDoPE_paper_2019/datasets_used/pET15_NESG.txt', sep='\\t', header=None)\n",
    "\n",
    "pET15_.rename(columns={0:'Accession', 4:'Sequence', 6:'Type'}, inplace=True)\n",
    "pET15_['Sequence'] = pET15_['Sequence'].apply(lambda x:'ATGGGCCATCACCATCACCATCACAGCCAT' + x) #His tag\n",
    "#copy sequence and accession\n",
    "pET15_seq = pET15_[['Accession', 'Sequence']].copy()\n",
    "pET15 = pd.merge(pET15_seq, classes, on=\"Accession\").dropna()\n",
    "pET15 = pET15.drop_duplicates(keep=False, inplace=False).copy()\n",
    "pET15['Accession'] = pET15['Accession'] + '_pET15'\n",
    "\n",
    "#pET21\n",
    "pET21_ =  fasta_reader('~/Documents/Solubility/SoDoPE_paper_2019/datasets_used/pET21_NESG.fas')\n",
    "\n",
    "pET21 = pd.merge(pET21_, classes, on=\"Accession\").dropna()\n",
    "pET21 = pET21.drop_duplicates(keep=False, inplace=False).copy()\n",
    "pET21['Accession'] = pET21['Accession'] + '_pET21'\n",
    "\n",
    "pET_merged = pd.concat([pET15, pET21], sort=False, keys=['pET15', 'pET21']) #keys make easier to reference later\n",
    "#check for unknown bases\n",
    "pET_merged['unknown_bases'] = pET_merged['Sequence'].apply(lambda x: 'X' in x or 'Z' in x or '*' in x or 'N' in x)\n",
    "pET = pET_merged.loc[pET_merged['unknown_bases'] == False].drop('unknown_bases', 1)\n",
    "\n",
    "# #Solubility\n",
    "# solubility_test = pET.loc[pET['Class'] != 0].copy()\n",
    "# solubility_test['Solubility'] = solubility_test['Class'].replace(1,0)\n",
    "# solubility_test['Solubility'] = solubility_test['Solubility'].replace(2,1)\n",
    "\n",
    "pET['Protein'] = pET['Sequence'].apply(translate)\n",
    "\n",
    "#remove seq with premature stop codons\n",
    "pET['stop'] = pET['Protein'].apply(lambda x: 'stop' in x)\n",
    "pET_ = pET.loc[pET['stop'] == False].drop('stop', 1)\n",
    "\n",
    "\n",
    "final_df = pET_.drop_duplicates(keep=False, inplace=False).copy()\n",
    "# # final_df.to_pickle(\"results/pET_complete.pkl.gz\", compression='gzip')\n",
    "# final_df.shape"
   ]
  },
  {
   "cell_type": "code",
   "execution_count": 48,
   "metadata": {
    "scrolled": true
   },
   "outputs": [
    {
     "data": {
      "text/html": [
       "<div>\n",
       "<style scoped>\n",
       "    .dataframe tbody tr th:only-of-type {\n",
       "        vertical-align: middle;\n",
       "    }\n",
       "\n",
       "    .dataframe tbody tr th {\n",
       "        vertical-align: top;\n",
       "    }\n",
       "\n",
       "    .dataframe thead th {\n",
       "        text-align: right;\n",
       "    }\n",
       "</style>\n",
       "<table border=\"1\" class=\"dataframe\">\n",
       "  <thead>\n",
       "    <tr style=\"text-align: right;\">\n",
       "      <th></th>\n",
       "      <th></th>\n",
       "      <th>Accession</th>\n",
       "      <th>Sequence</th>\n",
       "      <th>Class</th>\n",
       "      <th>Protein</th>\n",
       "    </tr>\n",
       "  </thead>\n",
       "  <tbody>\n",
       "    <tr>\n",
       "      <th rowspan=\"5\" valign=\"top\">pET15</th>\n",
       "      <th>0</th>\n",
       "      <td>BbCD00339994_pET15</td>\n",
       "      <td>ATGGGCCATCACCATCACCATCACAGCCATATGACTAAAATTATTC...</td>\n",
       "      <td>0</td>\n",
       "      <td>MGHHHHHHSHMTKIIPVASGKGGVGKTSFVANVGYKLSSLGKTVIL...</td>\n",
       "    </tr>\n",
       "    <tr>\n",
       "      <th>1</th>\n",
       "      <td>BbCD00339995_pET15</td>\n",
       "      <td>ATGGGCCATCACCATCACCATCACAGCCATATGACTAAAATTATTC...</td>\n",
       "      <td>0</td>\n",
       "      <td>MGHHHHHHSHMTKIIPVASGKGGVGKTSFVANVGYKLSSLGKTVIL...</td>\n",
       "    </tr>\n",
       "    <tr>\n",
       "      <th>2</th>\n",
       "      <td>BbCD00584211_pET15</td>\n",
       "      <td>ATGGGCCATCACCATCACCATCACAGCCATATGATTTTTGTAACTA...</td>\n",
       "      <td>2</td>\n",
       "      <td>MGHHHHHHSHMIFVTKLNGDGYYLNPYHIESIEANPDTTILLMNGK...</td>\n",
       "    </tr>\n",
       "    <tr>\n",
       "      <th>3</th>\n",
       "      <td>BcCD00331746_pET15</td>\n",
       "      <td>ATGGGCCATCACCATCACCATCACAGCCATATGGATAAAGAGAATC...</td>\n",
       "      <td>1</td>\n",
       "      <td>MGHHHHHHSHMDKENPRVGDKYITVQKVGKKIFEAEVEILEYDAPH...</td>\n",
       "    </tr>\n",
       "    <tr>\n",
       "      <th>4</th>\n",
       "      <td>BcCD00331747_pET15</td>\n",
       "      <td>ATGGGCCATCACCATCACCATCACAGCCATATGGCACATACTACTA...</td>\n",
       "      <td>2</td>\n",
       "      <td>MGHHHHHHSHMAHTTTSMEIFGSPEQVWQLIGGFNSLPDWLPYIPS...</td>\n",
       "    </tr>\n",
       "  </tbody>\n",
       "</table>\n",
       "</div>"
      ],
      "text/plain": [
       "                  Accession  \\\n",
       "pET15 0  BbCD00339994_pET15   \n",
       "      1  BbCD00339995_pET15   \n",
       "      2  BbCD00584211_pET15   \n",
       "      3  BcCD00331746_pET15   \n",
       "      4  BcCD00331747_pET15   \n",
       "\n",
       "                                                  Sequence  Class  \\\n",
       "pET15 0  ATGGGCCATCACCATCACCATCACAGCCATATGACTAAAATTATTC...      0   \n",
       "      1  ATGGGCCATCACCATCACCATCACAGCCATATGACTAAAATTATTC...      0   \n",
       "      2  ATGGGCCATCACCATCACCATCACAGCCATATGATTTTTGTAACTA...      2   \n",
       "      3  ATGGGCCATCACCATCACCATCACAGCCATATGGATAAAGAGAATC...      1   \n",
       "      4  ATGGGCCATCACCATCACCATCACAGCCATATGGCACATACTACTA...      2   \n",
       "\n",
       "                                                   Protein  \n",
       "pET15 0  MGHHHHHHSHMTKIIPVASGKGGVGKTSFVANVGYKLSSLGKTVIL...  \n",
       "      1  MGHHHHHHSHMTKIIPVASGKGGVGKTSFVANVGYKLSSLGKTVIL...  \n",
       "      2  MGHHHHHHSHMIFVTKLNGDGYYLNPYHIESIEANPDTTILLMNGK...  \n",
       "      3  MGHHHHHHSHMDKENPRVGDKYITVQKVGKKIFEAEVEILEYDAPH...  \n",
       "      4  MGHHHHHHSHMAHTTTSMEIFGSPEQVWQLIGGFNSLPDWLPYIPS...  "
      ]
     },
     "execution_count": 48,
     "metadata": {},
     "output_type": "execute_result"
    }
   ],
   "source": [
    "final_df.head()"
   ]
  },
  {
   "cell_type": "code",
   "execution_count": null,
   "metadata": {
    "scrolled": true
   },
   "outputs": [],
   "source": [
    "final_df.shape #(16248, 4)"
   ]
  },
  {
   "cell_type": "code",
   "execution_count": 24,
   "metadata": {
    "scrolled": true
   },
   "outputs": [
    {
     "data": {
      "text/plain": [
       "(0.2481536189069424, 12216, 0.7518463810930576)"
      ]
     },
     "execution_count": 24,
     "metadata": {},
     "output_type": "execute_result"
    }
   ],
   "source": [
    "#Failed and success\n",
    "4032/16248, 16248 - 4032, (16248 - 4032)/16248"
   ]
  },
  {
   "cell_type": "code",
   "execution_count": 25,
   "metadata": {
    "scrolled": true
   },
   "outputs": [
    {
     "data": {
      "text/plain": [
       "(0.2448301329394387, 8238, 0.5036927621861153)"
      ]
     },
     "execution_count": 25,
     "metadata": {},
     "output_type": "execute_result"
    }
   ],
   "source": [
    "#Insoluble and soluble\n",
    "3978/16248, 12216 - 3978, (12216 - 4032)/16248"
   ]
  },
  {
   "cell_type": "code",
   "execution_count": null,
   "metadata": {
    "scrolled": true
   },
   "outputs": [],
   "source": []
  },
  {
   "cell_type": "code",
   "execution_count": 20,
   "metadata": {
    "scrolled": true
   },
   "outputs": [
    {
     "data": {
      "text/plain": [
       "0.5067355600664329"
      ]
     },
     "execution_count": 20,
     "metadata": {},
     "output_type": "execute_result"
    }
   ],
   "source": [
    "(8238 )/16257"
   ]
  },
  {
   "cell_type": "code",
   "execution_count": 45,
   "metadata": {},
   "outputs": [
    {
     "data": {
      "text/plain": [
       "((4032, 4), (3978, 4), (8238, 4))"
      ]
     },
     "execution_count": 45,
     "metadata": {},
     "output_type": "execute_result"
    }
   ],
   "source": [
    "final_df.loc[final_df['Class'] == 0].shape, final_df.loc[final_df['Class'] == 1].shape,\\\n",
    "final_df.loc[final_df['Class'] == 2].shape"
   ]
  },
  {
   "cell_type": "code",
   "execution_count": 112,
   "metadata": {},
   "outputs": [
    {
     "data": {
      "image/png": "[encoded data removed]",
      "text/plain": [
       "<Figure size 432x288 with 2 Axes>"
      ]
     },
     "metadata": {},
     "output_type": "display_data"
    }
   ],
   "source": [
    "\n",
    "all_data = ['42774 Cloned', '21046 Expressed', '10936 Purified']\n",
    "all_data_ = ['4032 Failed', '3978 Expressed_(Not_soluble)', '8238 Expressed_(soluble)']\n",
    "\n",
    "data = [float(x.split()[0]) for x in all_data]\n",
    "labels = ['Cloned', 'Expressed', 'Purified']\n",
    "\n",
    "data_ = [float(x.split()[0]) for x in all_data_]\n",
    "labels_ = ['Failed', 'Insoluble', 'Soluble'] #Protein expressed:Tested_not_found, #ProteinExpressed:Protein_Confirmed SolubleProtein:Tested_Not_Soluble \n",
    "\n",
    "# Class 2\n",
    "# ProteinPurified:\n",
    "#  Not_Tested\n",
    "# ProteinExpressed:\n",
    "#  Protein_Confirmed\n",
    "# SolubleProtein:\n",
    "#  Protein_Soluble \n",
    "\n",
    "def func(pct, allvals):\n",
    "    absolute = int(pct/100.*np.sum(allvals))\n",
    "    return \"{:.1f}%\\n({:d})\".format(pct, absolute)\n",
    "\n",
    "\n",
    "\n",
    "fig, axes = plt.subplots(nrows=1, ncols=2, figsize=(6, 4), constrained_layout=True)\n",
    "\n",
    "\n",
    "axes[0].pie(data, labels=labels, autopct=lambda pct: func(pct, data),\n",
    "                                  textprops=dict(color=\"black\"))\n",
    "axes[0].set_title(\"A\")\n",
    "\n",
    "\n",
    "axes[1].pie(data_, labels=labels_, autopct=lambda pct: func(pct, data_),\n",
    "                                  textprops=dict(color=\"black\"))\n",
    "axes[1].set_title(\"B\")\n",
    "\n",
    "\n",
    "plt.savefig(\"figs/Status_of_protein_expression(1).pdf\", bbox_inches = 'tight', pad_inches = 0)\n",
    "plt.show()"
   ]
  },
  {
   "cell_type": "code",
   "execution_count": null,
   "metadata": {},
   "outputs": [],
   "source": []
  },
  {
   "cell_type": "code",
   "execution_count": null,
   "metadata": {},
   "outputs": [],
   "source": []
  },
  {
   "cell_type": "code",
   "execution_count": null,
   "metadata": {},
   "outputs": [],
   "source": []
  },
  {
   "cell_type": "code",
   "execution_count": 3,
   "metadata": {},
   "outputs": [
    {
     "data": {
      "image/png": "[encoded data removed]",
      "text/plain": [
       "<Figure size 360x360 with 1 Axes>"
      ]
     },
     "metadata": {
      "needs_background": "light"
     },
     "output_type": "display_data"
    }
   ],
   "source": [
    "plot_df = tt[['Center', 'Total', 'Cloned', 'Expressed', 'Purified']].\\\n",
    "    sort_values(by=\"Total\", ascending=False).reset_index(drop=True)\n",
    "ax = plot_df[:5].plot(kind='bar', figsize=(5, 5))\n",
    "ax.set_xticklabels(rotation = (0), \\\n",
    "                    labels=plot_df['Center'].values[:5])\n",
    "ax.set_xlabel('Centers preforming the experiment')\n",
    "ax.set_ylabel('Number of targets')\n",
    "plt.savefig(\"figs/Status_of_protein_expression.pdf\", bbox_inches = 'tight', pad_inches = 0)"
   ]
  },
  {
   "cell_type": "code",
   "execution_count": null,
   "metadata": {},
   "outputs": [],
   "source": []
  },
  {
   "cell_type": "code",
   "execution_count": null,
   "metadata": {},
   "outputs": [],
   "source": []
  },
  {
   "cell_type": "code",
   "execution_count": null,
   "metadata": {},
   "outputs": [],
   "source": []
  },
  {
   "cell_type": "code",
   "execution_count": null,
   "metadata": {},
   "outputs": [],
   "source": []
  },
  {
   "cell_type": "code",
   "execution_count": null,
   "metadata": {},
   "outputs": [],
   "source": []
  }
 ],
 "metadata": {
  "kernelspec": {
   "display_name": "Python 3",
   "language": "python",
   "name": "python3"
  },
  "language_info": {
   "codemirror_mode": {
    "name": "ipython",
    "version": 3
   },
   "file_extension": ".py",
   "mimetype": "text/x-python",
   "name": "python",
   "nbconvert_exporter": "python",
   "pygments_lexer": "ipython3",
   "version": "3.7.6"
  }
 },
 "nbformat": 4,
 "nbformat_minor": 2
}
